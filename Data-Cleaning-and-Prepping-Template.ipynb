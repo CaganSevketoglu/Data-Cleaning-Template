{
 "cells": [
  {
   "cell_type": "markdown",
   "id": "28051a51-2cb4-4597-b4bb-4936c46ab9f4",
   "metadata": {},
   "source": [
    "# Universal Data Cleaning & Preparation Template\n",
    "\n",
    "This Jupyter Notebook provides a step-by-step template for cleaning and preparing any tabular dataset for machine learning."
   ]
  },
  {
   "cell_type": "code",
   "execution_count": null,
   "id": "00be9803-c4c2-4451-a982-62d36282bad2",
   "metadata": {},
   "outputs": [],
   "source": [
    "# Import necessary libraries\n",
    "import pandas as pd\n",
    "import numpy as np"
   ]
  },
  {
   "cell_type": "markdown",
   "id": "4480275a-5a3d-4301-92a7-7b1f8fc2e93f",
   "metadata": {},
   "source": [
    "### Step 1: Configuration & Data Loading\n",
    "\n",
    "**Action Required:** Update the `file_path` variable below with the name of your CSV file. Make sure the file is in the same folder as this notebook."
   ]
  },
  {
   "cell_type": "code",
   "execution_count": null,
   "id": "ffcb62ea-ccbe-44db-bceb-e20ab8ea87d8",
   "metadata": {},
   "outputs": [],
   "source": [
    "# --- CONFIGURATION ---\n",
    "file_path = 'your_dataset.csv'\n",
    "\n",
    "# --- DATA LOADING ---\n",
    "try:\n",
    "    df = pd.read_csv(file_path)\n",
    "    print(\"Data loaded successfully!\")\n",
    "    print(\"First 5 rows of your data:\")\n",
    "    print(df.head())\n",
    "except FileNotFoundError:\n",
    "    print(f\"ERROR: The file '{file_path}' was not found.\")"
   ]
  },
  {
   "cell_type": "markdown",
   "id": "a595025e-8a0a-4446-a137-2b849942aed9",
   "metadata": {},
   "source": [
    "### Step 2: Data Exploration\n",
    "Let's get a summary of the dataset to understand its structure, data types, and missing values."
   ]
  },
  {
   "cell_type": "code",
   "execution_count": null,
   "id": "5665fcee-ddf4-472b-8339-632b67d85830",
   "metadata": {},
   "outputs": [],
   "source": [
    "# Get a summary of the DataFrame\n",
    "df.info()"
   ]
  },
  {
   "cell_type": "markdown",
   "id": "e2728170-9d59-4a0e-b26e-8364c4fbf735",
   "metadata": {},
   "source": [
    "### Step 3: Data Cleaning & Preprocessing\n",
    "\n",
    "This section contains automated steps to clean the data. Review the output of each cell to understand the changes made to your DataFrame."
   ]
  },
  {
   "cell_type": "code",
   "execution_count": null,
   "id": "2ad1354b-7791-490f-acb3-6b647811b378",
   "metadata": {},
   "outputs": [],
   "source": [
    "# --- Fill Missing Numeric Values ---\n",
    "print(\"--- Handling Missing Numeric Data ---\")\n",
    "numeric_cols = df.select_dtypes(include=np.number).columns\n",
    "\n",
    "for col in numeric_cols:\n",
    "    if df[col].isnull().sum() > 0:\n",
    "        mean_value = df[col].mean()\n",
    "        df[col] = df[col].fillna(mean_value)\n",
    "        print(f\"INFO: Missing values in numeric column '{col}' filled with mean.\")"
   ]
  },
  {
   "cell_type": "code",
   "execution_count": null,
   "id": "83feacf5-0581-4d25-985a-234188ea7745",
   "metadata": {},
   "outputs": [],
   "source": [
    "# --- Fill Missing Categorical Values ---\n",
    "print(\"\\n--- Handling Missing Categorical Data ---\")\n",
    "categorical_cols = df.select_dtypes(include=['object']).columns\n",
    "\n",
    "for col in categorical_cols:\n",
    "    if df[col].isnull().sum() > 0:\n",
    "        mode_value = df[col].mode()[0]\n",
    "        df[col] = df[col].fillna(mode_value)\n",
    "        print(f\"INFO: Missing values in categorical column '{col}' filled with mode.\")"
   ]
  },
  {
   "cell_type": "code",
   "execution_count": null,
   "id": "ab1c32b1-e122-4221-8651-90509576b4f1",
   "metadata": {},
   "outputs": [],
   "source": [
    "# --- Encode All Categorical Data to Numbers ---\n",
    "print(\"\\n--- Encoding All Text Data to Numbers ---\")\n",
    "# Create a copy to keep the original df unchanged\n",
    "df_processed = df.copy() \n",
    "object_cols_to_encode = df_processed.select_dtypes(include=['object']).columns\n",
    "if len(object_cols_to_encode) > 0:\n",
    "    df_processed = pd.get_dummies(df_processed, columns=object_cols_to_encode, drop_first=True)\n",
    "    print(\"SUCCESS: All text columns have been one-hot encoded.\")\n",
    "else:\n",
    "    print(\"INFO: No text columns to encode.\")"
   ]
  },
  {
   "cell_type": "markdown",
   "id": "0ad367b1-16eb-4277-a3f6-a01cffa4dc7a",
   "metadata": {},
   "source": [
    "### Step 4: Preprocessing Complete!\n",
    "The `df_processed` DataFrame now contains your fully cleaned and model-ready data."
   ]
  },
  {
   "cell_type": "code",
   "execution_count": null,
   "id": "4e21cc59-ba4c-4d43-aa98-106a5d80f242",
   "metadata": {
    "scrolled": true
   },
   "outputs": [],
   "source": [
    "# Display the first 5 rows of the final processed data\n",
    "print(\"Head of the final, processed DataFrame:\")\n",
    "print(df_processed.head())"
   ]
  }
 ],
 "metadata": {
  "kernelspec": {
   "display_name": "Python 3 (ipykernel)",
   "language": "python",
   "name": "python3"
  },
  "language_info": {
   "codemirror_mode": {
    "name": "ipython",
    "version": 3
   },
   "file_extension": ".py",
   "mimetype": "text/x-python",
   "name": "python",
   "nbconvert_exporter": "python",
   "pygments_lexer": "ipython3",
   "version": "3.10.16"
  }
 },
 "nbformat": 4,
 "nbformat_minor": 5
}
